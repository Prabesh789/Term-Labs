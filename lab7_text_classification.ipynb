{
 "cells": [
  {
   "cell_type": "code",
   "execution_count": 3,
   "metadata": {},
   "outputs": [],
   "source": [
    "# Step 1: Import Required Libraries\n",
    "import nltk\n",
    "import pandas as pd\n",
    "import numpy as np\n",
    "import re\n",
    "import string\n",
    "from sklearn.feature_extraction.text import TfidfVectorizer\n",
    "from sklearn.model_selection import train_test_split\n",
    "from sklearn.naive_bayes import MultinomialNB\n",
    "from sklearn.linear_model import LogisticRegression\n",
    "from sklearn.svm import SVC\n",
    "from sklearn.neighbors import KNeighborsClassifier\n",
    "from sklearn.metrics import classification_report, accuracy_score"
   ]
  },
  {
   "cell_type": "code",
   "execution_count": 4,
   "metadata": {},
   "outputs": [
    {
     "name": "stderr",
     "output_type": "stream",
     "text": [
      "<>:20: SyntaxWarning: invalid escape sequence '\\d'\n",
      "<>:20: SyntaxWarning: invalid escape sequence '\\d'\n",
      "C:\\Users\\raipr\\AppData\\Local\\Temp\\ipykernel_22412\\2636371245.py:20: SyntaxWarning: invalid escape sequence '\\d'\n",
      "  text = re.sub('\\d+', '', text)  # Remove numbers\n",
      "[nltk_data] Downloading package movie_reviews to\n",
      "[nltk_data]     C:\\Users\\raipr\\AppData\\Roaming\\nltk_data...\n",
      "[nltk_data]   Package movie_reviews is already up-to-date!\n"
     ]
    }
   ],
   "source": [
    "# Step 2: Load the IMDB dataset\n",
    "def load_imdb_data():\n",
    "    nltk.download('movie_reviews')\n",
    "    from nltk.corpus import movie_reviews\n",
    "    \n",
    "    # Extracting movie reviews and their labels\n",
    "    documents = [(list(movie_reviews.words(fileid)), category)\n",
    "                 for category in movie_reviews.categories()\n",
    "                 for fileid in movie_reviews.fileids(category)]\n",
    "    \n",
    "    # Convert to dataframe\n",
    "    df = pd.DataFrame(documents, columns=['review', 'sentiment'])\n",
    "    df['review'] = df['review'].apply(lambda x: ' '.join(x))  # Convert word lists to full text\n",
    "    return df\n",
    "\n",
    "# Preprocess the text\n",
    "def preprocess_text(text):\n",
    "    text = text.lower()  # Convert to lowercase\n",
    "    text = re.sub(f'[{string.punctuation}]', '', text)  # Remove punctuation\n",
    "    text = re.sub('\\d+', '', text)  # Remove numbers\n",
    "    return text\n",
    "\n",
    "# Load and preprocess data\n",
    "df = load_imdb_data()\n",
    "df['review'] = df['review'].apply(preprocess_text)"
   ]
  },
  {
   "cell_type": "code",
   "execution_count": 5,
   "metadata": {},
   "outputs": [],
   "source": [
    "# Step 3: Convert Text Data into Numerical Features\n",
    "vectorizer = TfidfVectorizer(max_features=5000, stop_words='english')\n",
    "X = vectorizer.fit_transform(df['review'])\n",
    "y = df['sentiment'].map({'pos': 1, 'neg': 0})  # Convert labels to binary"
   ]
  },
  {
   "cell_type": "code",
   "execution_count": 7,
   "metadata": {},
   "outputs": [],
   "source": [
    "# Step 4: Split Data into Training and Testing Sets\n",
    "X_train, X_test, y_train, y_test = train_test_split(X, y, test_size=0.3, random_state=42)"
   ]
  },
  {
   "cell_type": "code",
   "execution_count": 8,
   "metadata": {},
   "outputs": [],
   "source": [
    "# Step 5: Train and Evaluate Models\n",
    "def train_and_evaluate_model(model, X_train, X_test, y_train, y_test, model_name):\n",
    "    model.fit(X_train, y_train)\n",
    "    y_pred = model.predict(X_test)\n",
    "    accuracy = accuracy_score(y_test, y_pred)\n",
    "    report = classification_report(y_test, y_pred)\n",
    "    print(f'\\nModel: {model_name}')\n",
    "    print(f'Accuracy: {accuracy:.4f}')\n",
    "    print(report)\n",
    "    return accuracy\n",
    "\n",
    "# Train models\n",
    "models = {\n",
    "    'Multinomial Naive Bayes': MultinomialNB(),\n",
    "    'Logistic Regression': LogisticRegression(max_iter=1000),\n",
    "    'Support Vector Machine': SVC(),\n",
    "    'K-Nearest Neighbors': KNeighborsClassifier(n_neighbors=5)\n",
    "}"
   ]
  },
  {
   "cell_type": "code",
   "execution_count": 9,
   "metadata": {},
   "outputs": [
    {
     "name": "stdout",
     "output_type": "stream",
     "text": [
      "\n",
      "Model: Multinomial Naive Bayes\n",
      "Accuracy: 0.7950\n",
      "              precision    recall  f1-score   support\n",
      "\n",
      "           0       0.77      0.84      0.81       302\n",
      "           1       0.83      0.74      0.78       298\n",
      "\n",
      "    accuracy                           0.80       600\n",
      "   macro avg       0.80      0.79      0.79       600\n",
      "weighted avg       0.80      0.80      0.79       600\n",
      "\n",
      "\n",
      "Model: Logistic Regression\n",
      "Accuracy: 0.8200\n",
      "              precision    recall  f1-score   support\n",
      "\n",
      "           0       0.82      0.82      0.82       302\n",
      "           1       0.82      0.82      0.82       298\n",
      "\n",
      "    accuracy                           0.82       600\n",
      "   macro avg       0.82      0.82      0.82       600\n",
      "weighted avg       0.82      0.82      0.82       600\n",
      "\n",
      "\n",
      "Model: Support Vector Machine\n",
      "Accuracy: 0.8117\n",
      "              precision    recall  f1-score   support\n",
      "\n",
      "           0       0.81      0.81      0.81       302\n",
      "           1       0.81      0.81      0.81       298\n",
      "\n",
      "    accuracy                           0.81       600\n",
      "   macro avg       0.81      0.81      0.81       600\n",
      "weighted avg       0.81      0.81      0.81       600\n",
      "\n",
      "\n",
      "Model: K-Nearest Neighbors\n",
      "Accuracy: 0.6667\n",
      "              precision    recall  f1-score   support\n",
      "\n",
      "           0       0.68      0.63      0.66       302\n",
      "           1       0.65      0.70      0.68       298\n",
      "\n",
      "    accuracy                           0.67       600\n",
      "   macro avg       0.67      0.67      0.67       600\n",
      "weighted avg       0.67      0.67      0.67       600\n",
      "\n",
      "\n",
      "Summary Table:\n",
      "                      Model  Accuracy\n",
      "0  Multinomial Naive Bayes  0.795000\n",
      "1      Logistic Regression  0.820000\n",
      "2   Support Vector Machine  0.811667\n",
      "3      K-Nearest Neighbors  0.666667\n"
     ]
    }
   ],
   "source": [
    "results = {}\n",
    "for name, model in models.items():\n",
    "    results[name] = train_and_evaluate_model(model, X_train, X_test, y_train, y_test, name)\n",
    "\n",
    "# Step 6: Compare Results\n",
    "summary_df = pd.DataFrame(list(results.items()), columns=['Model', 'Accuracy'])\n",
    "print('\\nSummary Table:\\n', summary_df)"
   ]
  },
  {
   "cell_type": "markdown",
   "metadata": {},
   "source": [
    "***Logistic Regression outperformed the other models with the qaccuray of 82%. It is because it effectively handles high-dimensional sparse text data, avoids overfitting, and is well-suited for binary classification.***"
   ]
  }
 ],
 "metadata": {
  "kernelspec": {
   "display_name": "Python 3",
   "language": "python",
   "name": "python3"
  },
  "language_info": {
   "codemirror_mode": {
    "name": "ipython",
    "version": 3
   },
   "file_extension": ".py",
   "mimetype": "text/x-python",
   "name": "python",
   "nbconvert_exporter": "python",
   "pygments_lexer": "ipython3",
   "version": "3.13.2"
  }
 },
 "nbformat": 4,
 "nbformat_minor": 2
}
