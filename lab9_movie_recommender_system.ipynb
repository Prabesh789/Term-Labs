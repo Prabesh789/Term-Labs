{
 "cells": [
  {
   "cell_type": "markdown",
   "metadata": {},
   "source": [
    "### Part 1: Load and Preprocess the Data"
   ]
  },
  {
   "cell_type": "code",
   "execution_count": 617,
   "metadata": {},
   "outputs": [],
   "source": [
    "import pandas as pd\n",
    "import numpy as np"
   ]
  },
  {
   "cell_type": "code",
   "execution_count": 618,
   "metadata": {},
   "outputs": [],
   "source": [
    "# Load datasets\n",
    "movies = pd.read_csv('movie_data/movies.csv')    # Contains: movieId, title, genres\n",
    "ratings = pd.read_csv('movie_data/ratings.csv')  # Contains: userId, movieId, rating, timestamp"
   ]
  },
  {
   "cell_type": "code",
   "execution_count": 619,
   "metadata": {},
   "outputs": [
    {
     "data": {
      "text/html": [
       "<div>\n",
       "<style scoped>\n",
       "    .dataframe tbody tr th:only-of-type {\n",
       "        vertical-align: middle;\n",
       "    }\n",
       "\n",
       "    .dataframe tbody tr th {\n",
       "        vertical-align: top;\n",
       "    }\n",
       "\n",
       "    .dataframe thead th {\n",
       "        text-align: right;\n",
       "    }\n",
       "</style>\n",
       "<table border=\"1\" class=\"dataframe\">\n",
       "  <thead>\n",
       "    <tr style=\"text-align: right;\">\n",
       "      <th></th>\n",
       "      <th>movieId</th>\n",
       "      <th>title</th>\n",
       "      <th>genres</th>\n",
       "    </tr>\n",
       "  </thead>\n",
       "  <tbody>\n",
       "    <tr>\n",
       "      <th>0</th>\n",
       "      <td>1</td>\n",
       "      <td>Toy Story (1995)</td>\n",
       "      <td>Adventure|Animation|Children|Comedy|Fantasy</td>\n",
       "    </tr>\n",
       "    <tr>\n",
       "      <th>1</th>\n",
       "      <td>2</td>\n",
       "      <td>Jumanji (1995)</td>\n",
       "      <td>Adventure|Children|Fantasy</td>\n",
       "    </tr>\n",
       "    <tr>\n",
       "      <th>2</th>\n",
       "      <td>3</td>\n",
       "      <td>Grumpier Old Men (1995)</td>\n",
       "      <td>Comedy|Romance</td>\n",
       "    </tr>\n",
       "    <tr>\n",
       "      <th>3</th>\n",
       "      <td>4</td>\n",
       "      <td>Waiting to Exhale (1995)</td>\n",
       "      <td>Comedy|Drama|Romance</td>\n",
       "    </tr>\n",
       "    <tr>\n",
       "      <th>4</th>\n",
       "      <td>5</td>\n",
       "      <td>Father of the Bride Part II (1995)</td>\n",
       "      <td>Comedy</td>\n",
       "    </tr>\n",
       "  </tbody>\n",
       "</table>\n",
       "</div>"
      ],
      "text/plain": [
       "   movieId                               title  \\\n",
       "0        1                    Toy Story (1995)   \n",
       "1        2                      Jumanji (1995)   \n",
       "2        3             Grumpier Old Men (1995)   \n",
       "3        4            Waiting to Exhale (1995)   \n",
       "4        5  Father of the Bride Part II (1995)   \n",
       "\n",
       "                                        genres  \n",
       "0  Adventure|Animation|Children|Comedy|Fantasy  \n",
       "1                   Adventure|Children|Fantasy  \n",
       "2                               Comedy|Romance  \n",
       "3                         Comedy|Drama|Romance  \n",
       "4                                       Comedy  "
      ]
     },
     "execution_count": 619,
     "metadata": {},
     "output_type": "execute_result"
    }
   ],
   "source": [
    "movies.head()"
   ]
  },
  {
   "cell_type": "code",
   "execution_count": 620,
   "metadata": {},
   "outputs": [
    {
     "data": {
      "text/html": [
       "<div>\n",
       "<style scoped>\n",
       "    .dataframe tbody tr th:only-of-type {\n",
       "        vertical-align: middle;\n",
       "    }\n",
       "\n",
       "    .dataframe tbody tr th {\n",
       "        vertical-align: top;\n",
       "    }\n",
       "\n",
       "    .dataframe thead th {\n",
       "        text-align: right;\n",
       "    }\n",
       "</style>\n",
       "<table border=\"1\" class=\"dataframe\">\n",
       "  <thead>\n",
       "    <tr style=\"text-align: right;\">\n",
       "      <th></th>\n",
       "      <th>userId</th>\n",
       "      <th>movieId</th>\n",
       "      <th>rating</th>\n",
       "      <th>timestamp</th>\n",
       "    </tr>\n",
       "  </thead>\n",
       "  <tbody>\n",
       "    <tr>\n",
       "      <th>0</th>\n",
       "      <td>1</td>\n",
       "      <td>1</td>\n",
       "      <td>4.0</td>\n",
       "      <td>964982703</td>\n",
       "    </tr>\n",
       "    <tr>\n",
       "      <th>1</th>\n",
       "      <td>1</td>\n",
       "      <td>3</td>\n",
       "      <td>4.0</td>\n",
       "      <td>964981247</td>\n",
       "    </tr>\n",
       "    <tr>\n",
       "      <th>2</th>\n",
       "      <td>1</td>\n",
       "      <td>6</td>\n",
       "      <td>4.0</td>\n",
       "      <td>964982224</td>\n",
       "    </tr>\n",
       "    <tr>\n",
       "      <th>3</th>\n",
       "      <td>1</td>\n",
       "      <td>47</td>\n",
       "      <td>5.0</td>\n",
       "      <td>964983815</td>\n",
       "    </tr>\n",
       "    <tr>\n",
       "      <th>4</th>\n",
       "      <td>1</td>\n",
       "      <td>50</td>\n",
       "      <td>5.0</td>\n",
       "      <td>964982931</td>\n",
       "    </tr>\n",
       "  </tbody>\n",
       "</table>\n",
       "</div>"
      ],
      "text/plain": [
       "   userId  movieId  rating  timestamp\n",
       "0       1        1     4.0  964982703\n",
       "1       1        3     4.0  964981247\n",
       "2       1        6     4.0  964982224\n",
       "3       1       47     5.0  964983815\n",
       "4       1       50     5.0  964982931"
      ]
     },
     "execution_count": 620,
     "metadata": {},
     "output_type": "execute_result"
    }
   ],
   "source": [
    "ratings.head()"
   ]
  },
  {
   "cell_type": "code",
   "execution_count": 621,
   "metadata": {},
   "outputs": [
    {
     "data": {
      "text/plain": [
       "movieId    0\n",
       "title      0\n",
       "genres     0\n",
       "dtype: int64"
      ]
     },
     "execution_count": 621,
     "metadata": {},
     "output_type": "execute_result"
    }
   ],
   "source": [
    "movies.isnull().sum()"
   ]
  },
  {
   "cell_type": "code",
   "execution_count": 622,
   "metadata": {},
   "outputs": [
    {
     "data": {
      "text/plain": [
       "userId       0\n",
       "movieId      0\n",
       "rating       0\n",
       "timestamp    0\n",
       "dtype: int64"
      ]
     },
     "execution_count": 622,
     "metadata": {},
     "output_type": "execute_result"
    }
   ],
   "source": [
    "ratings.isnull().sum()"
   ]
  },
  {
   "cell_type": "markdown",
   "metadata": {},
   "source": [
    "***There is no any missing values in movies and ratings data.***"
   ]
  },
  {
   "cell_type": "code",
   "execution_count": 623,
   "metadata": {},
   "outputs": [
    {
     "name": "stdout",
     "output_type": "stream",
     "text": [
      "0    Adventure Animation Children Comedy Fantasy\n",
      "1                     Adventure Children Fantasy\n",
      "2                                 Comedy Romance\n",
      "3                           Comedy Drama Romance\n",
      "4                                         Comedy\n",
      "Name: genres, dtype: object\n"
     ]
    }
   ],
   "source": [
    "# Replace '|' with space for TF-IDF processing\n",
    "movies['genres'] = movies['genres'].str.replace('|', ' ')\n",
    "print(movies['genres'].head())"
   ]
  },
  {
   "cell_type": "code",
   "execution_count": 624,
   "metadata": {},
   "outputs": [
    {
     "name": "stdout",
     "output_type": "stream",
     "text": [
      "movieId  1       2       3       4       5       6       7       8       \\\n",
      "userId                                                                    \n",
      "1           4.0     0.0     4.0     0.0     0.0     4.0     0.0     0.0   \n",
      "2           0.0     0.0     0.0     0.0     0.0     0.0     0.0     0.0   \n",
      "3           0.0     0.0     0.0     0.0     0.0     0.0     0.0     0.0   \n",
      "4           0.0     0.0     0.0     0.0     0.0     0.0     0.0     0.0   \n",
      "5           4.0     0.0     0.0     0.0     0.0     0.0     0.0     0.0   \n",
      "\n",
      "movieId  9       10      ...  193565  193567  193571  193573  193579  193581  \\\n",
      "userId                   ...                                                   \n",
      "1           0.0     0.0  ...     0.0     0.0     0.0     0.0     0.0     0.0   \n",
      "2           0.0     0.0  ...     0.0     0.0     0.0     0.0     0.0     0.0   \n",
      "3           0.0     0.0  ...     0.0     0.0     0.0     0.0     0.0     0.0   \n",
      "4           0.0     0.0  ...     0.0     0.0     0.0     0.0     0.0     0.0   \n",
      "5           0.0     0.0  ...     0.0     0.0     0.0     0.0     0.0     0.0   \n",
      "\n",
      "movieId  193583  193585  193587  193609  \n",
      "userId                                   \n",
      "1           0.0     0.0     0.0     0.0  \n",
      "2           0.0     0.0     0.0     0.0  \n",
      "3           0.0     0.0     0.0     0.0  \n",
      "4           0.0     0.0     0.0     0.0  \n",
      "5           0.0     0.0     0.0     0.0  \n",
      "\n",
      "[5 rows x 9724 columns]\n"
     ]
    }
   ],
   "source": [
    "### Create a user-item interaction matrix\n",
    "user_movie_matrix = ratings.pivot(index='userId', columns='movieId', values='rating').fillna(0)\n",
    "print(user_movie_matrix.head())"
   ]
  },
  {
   "cell_type": "markdown",
   "metadata": {},
   "source": [
    "### Part 2: Build a Hybrid Recommender System"
   ]
  },
  {
   "cell_type": "markdown",
   "metadata": {},
   "source": [
    "***Build a Content-Based Filtering model using genres***"
   ]
  },
  {
   "cell_type": "code",
   "execution_count": 625,
   "metadata": {},
   "outputs": [],
   "source": [
    "from sklearn.feature_extraction.text import TfidfVectorizer\n",
    "from sklearn.metrics.pairwise import cosine_similarity\n",
    "\n",
    "# TF-IDF Vectorization of genres\n",
    "tfidf = TfidfVectorizer(stop_words='english')\n",
    "tfidf_matrix = tfidf.fit_transform(movies['genres'])\n",
    "\n",
    "# Cosine similarity\n",
    "cosine_sim = cosine_similarity(tfidf_matrix, tfidf_matrix)\n",
    "\n",
    "# Function to recommend movies\n",
    "# Computing similarity using cosine similarity.\n",
    "def content_based_recommendations(title, cosine_sim=cosine_sim, movies=movies):\n",
    "    indices = pd.Series(movies.index, index=movies['title']).drop_duplicates()\n",
    "    if title not in indices:\n",
    "        return []\n",
    "    idx = indices[title]\n",
    "    sim_scores = list(enumerate(cosine_sim[idx]))\n",
    "    sim_scores = sorted(sim_scores, key=lambda x: x[1], reverse=True)\n",
    "    sim_scores = sim_scores[1:11]  # Top 10 recommendations\n",
    "    movie_indices = [i[0] for i in sim_scores]\n",
    "    return movies['title'].iloc[movie_indices]"
   ]
  },
  {
   "cell_type": "markdown",
   "metadata": {},
   "source": [
    "***Implement Collaborative Filtering using KNN for Collaborative recommendations***"
   ]
  },
  {
   "cell_type": "code",
   "execution_count": 626,
   "metadata": {},
   "outputs": [],
   "source": [
    "from scipy.sparse import csr_matrix\n",
    "from sklearn.neighbors import NearestNeighbors\n",
    "\n",
    "# Convert to sparse matrix\n",
    "movie_sparse = csr_matrix(user_movie_matrix.values)\n",
    "\n",
    "# Fit KNN model\n",
    "model_knn = NearestNeighbors(metric='cosine', algorithm='brute')\n",
    "model_knn.fit(movie_sparse)\n",
    "\n",
    "# Function for collaborative recommendations\n",
    "def collaborative_recommendations(movie_id, user_movie_matrix, model_knn, movies, n_neighbors=10):\n",
    "    if movie_id not in user_movie_matrix.columns:\n",
    "        return []\n",
    "    movie_idx = list(user_movie_matrix.columns).index(movie_id)\n",
    "    distances, indices = model_knn.kneighbors(movie_sparse[movie_idx], n_neighbors=n_neighbors)\n",
    "    movie_indices = [user_movie_matrix.columns[i] for i in indices.flatten()]\n",
    "    return movies[movies['movieId'].isin(movie_indices)]['title']\n"
   ]
  },
  {
   "cell_type": "markdown",
   "metadata": {},
   "source": [
    "***Combine both models into a Hybrid Recommender System***"
   ]
  },
  {
   "cell_type": "code",
   "execution_count": 627,
   "metadata": {},
   "outputs": [],
   "source": [
    "def hybrid_recommendations(title, movie_id, content_weight=0.5, collab_weight=0.5, top_n=10):\n",
    "    content_recs = content_based_recommendations(title)\n",
    "    collab_recs = collaborative_recommendations(movie_id, user_movie_matrix, model_knn, movies)\n",
    "\n",
    "    hybrid_scores = {}\n",
    "    for rec in content_recs:\n",
    "        hybrid_scores[rec] = hybrid_scores.get(rec, 0) + content_weight\n",
    "    for rec in collab_recs:\n",
    "        hybrid_scores[rec] = hybrid_scores.get(rec, 0) + collab_weight\n",
    "\n",
    "    hybrid_recs = sorted(hybrid_scores.items(), key=lambda x: x[1], reverse=True)\n",
    "    return [rec[0] for rec in hybrid_recs[:10]]\n"
   ]
  },
  {
   "cell_type": "markdown",
   "metadata": {},
   "source": [
    "### Part 4: Evaluate the Recommender System"
   ]
  },
  {
   "cell_type": "code",
   "execution_count": 628,
   "metadata": {},
   "outputs": [
    {
     "name": "stdout",
     "output_type": "stream",
     "text": [
      "Content-Based Recommendations for 'Barcelona (1994)': 6                          Sabrina (1995)\n",
      "35                        Clueless (1995)\n",
      "57                   Two if by Sea (1996)\n",
      "60     French Twist (Gazon maudit) (1995)\n",
      "103                   If Lucy Fell (1996)\n",
      "106                      Boomerang (1992)\n",
      "111                 Pie in the Sky (1996)\n",
      "152                       Mallrats (1995)\n",
      "157                    Nine Months (1995)\n",
      "203                   Forget Paris (1995)\n",
      "Name: title, dtype: object\n",
      "Collaborative Recommendations for Movie ID 417: 16                Sense and Sensibility (1995)\n",
      "130                      Canadian Bacon (1995)\n",
      "232                         Love Affair (1994)\n",
      "238                          Milk Money (1994)\n",
      "246    New York Cop (Nyû Yôku no koppu) (1993)\n",
      "316                     Higher Learning (1995)\n",
      "361                           Barcelona (1994)\n",
      "399        Geronimo: An American Legend (1993)\n",
      "416                     Jimmy Hollywood (1994)\n",
      "433                What Happened Was... (1994)\n",
      "Name: title, dtype: object\n",
      "Hybrid Recommendations for 'Barcelona (1994)': ['Sabrina (1995)', 'Clueless (1995)', 'Two if by Sea (1996)', 'French Twist (Gazon maudit) (1995)', 'If Lucy Fell (1996)', 'Boomerang (1992)', 'Pie in the Sky (1996)', 'Mallrats (1995)', 'Nine Months (1995)', 'Forget Paris (1995)']\n"
     ]
    }
   ],
   "source": [
    "# Sample data for testing\n",
    "title_test = 'Barcelona (1994)'\n",
    "movie_id_test = 417\n",
    "\n",
    "# Content-Based Model Test\n",
    "content_preds = content_based_recommendations(title_test)\n",
    "print(f\"Content-Based Recommendations for '{title_test}': {content_preds}\")\n",
    "\n",
    "# Collaborative Model Test\n",
    "collab_preds = collaborative_recommendations(movie_id_test, user_movie_matrix, model_knn, movies)\n",
    "print(f\"Collaborative Recommendations for Movie ID {movie_id_test}: {collab_preds}\")\n",
    "\n",
    "# Hybrid Model Test\n",
    "hybrid_preds = hybrid_recommendations(title_test, movie_id_test)\n",
    "print(f\"Hybrid Recommendations for '{title_test}': {hybrid_preds}\")"
   ]
  },
  {
   "cell_type": "code",
   "execution_count": 629,
   "metadata": {},
   "outputs": [
    {
     "name": "stdout",
     "output_type": "stream",
     "text": [
      "\n",
      "Evaluation Results:\n",
      "Content-Based Filtering Evaluation:\n",
      "Precision: 0.20, Recall: 1.00, F1-Score: 0.33\n",
      "\n",
      "Collaborative Filtering Evaluation:\n",
      "Precision: 0.40, Recall: 1.00, F1-Score: 0.57\n",
      "\n",
      "Hybrid Model Evaluation:\n",
      "Precision: 0.20, Recall: 1.00, F1-Score: 0.33\n"
     ]
    }
   ],
   "source": [
    "from sklearn.metrics import precision_score, recall_score, f1_score\n",
    "\n",
    "# Function to generate ground truth dynamically based on high-rated movies by similar users\n",
    "def get_dynamic_ground_truth(movie_id, ratings, movies):\n",
    "    # Find users who rated the target movie highly (4+ stars)\n",
    "    high_rated_users = ratings[(ratings[\"movieId\"] == movie_id) & (ratings[\"rating\"] >= 4)][\"userId\"]\n",
    "    \n",
    "    # Get other movies rated 4+ stars by these users\n",
    "    relevant_movies = ratings[(ratings[\"userId\"].isin(high_rated_users)) & (ratings[\"rating\"] >= 4)][\"movieId\"].unique()\n",
    "    \n",
    "    # Convert movie IDs to titles\n",
    "    return movies[movies[\"movieId\"].isin(relevant_movies)][\"title\"].tolist()\n",
    "\n",
    "# Generate ground truth dynamically\n",
    "relevant_movie_titles = get_dynamic_ground_truth(movie_id_test, ratings, movies)\n",
    "\n",
    "# Function to evaluate recommendations\n",
    "def evaluate_model(recommended, relevant):\n",
    "    y_true = [1 if movie in relevant else 0 for movie in recommended]\n",
    "    y_pred = [1] * len(recommended)  # All recommendations are considered positive predictions\n",
    "    \n",
    "    precision = precision_score(y_true, y_pred, zero_division=1)\n",
    "    recall = recall_score(y_true, y_pred, zero_division=1)\n",
    "    f1 = f1_score(y_true, y_pred, zero_division=1)\n",
    "    \n",
    "    return precision, recall, f1\n",
    "\n",
    "# Evaluate models using actual recommendations\n",
    "print(\"\\nEvaluation Results:\")\n",
    "print(\"Content-Based Filtering Evaluation:\")\n",
    "precision, recall, f1 = evaluate_model(content_preds, relevant_movie_titles)\n",
    "print(f\"Precision: {precision:.2f}, Recall: {recall:.2f}, F1-Score: {f1:.2f}\\n\")\n",
    "\n",
    "print(\"Collaborative Filtering Evaluation:\")\n",
    "precision, recall, f1 = evaluate_model(collab_preds, relevant_movie_titles)\n",
    "print(f\"Precision: {precision:.2f}, Recall: {recall:.2f}, F1-Score: {f1:.2f}\\n\")\n",
    "\n",
    "print(\"Hybrid Model Evaluation:\")\n",
    "precision, recall, f1 = evaluate_model(hybrid_preds, relevant_movie_titles)\n",
    "print(f\"Precision: {precision:.2f}, Recall: {recall:.2f}, F1-Score: {f1:.2f}\")"
   ]
  }
 ],
 "metadata": {
  "kernelspec": {
   "display_name": "Python 3",
   "language": "python",
   "name": "python3"
  },
  "language_info": {
   "codemirror_mode": {
    "name": "ipython",
    "version": 3
   },
   "file_extension": ".py",
   "mimetype": "text/x-python",
   "name": "python",
   "nbconvert_exporter": "python",
   "pygments_lexer": "ipython3",
   "version": "3.13.2"
  }
 },
 "nbformat": 4,
 "nbformat_minor": 2
}
