{
 "cells": [
  {
   "cell_type": "code",
   "execution_count": 130,
   "metadata": {},
   "outputs": [
    {
     "name": "stderr",
     "output_type": "stream",
     "text": [
      "[nltk_data] Downloading package punkt to\n",
      "[nltk_data]     C:\\Users\\raipr\\AppData\\Roaming\\nltk_data...\n",
      "[nltk_data]   Package punkt is already up-to-date!\n",
      "[nltk_data] Downloading package stopwords to\n",
      "[nltk_data]     C:\\Users\\raipr\\AppData\\Roaming\\nltk_data...\n",
      "[nltk_data]   Package stopwords is already up-to-date!\n",
      "[nltk_data] Downloading package wordnet to\n",
      "[nltk_data]     C:\\Users\\raipr\\AppData\\Roaming\\nltk_data...\n",
      "[nltk_data]   Package wordnet is already up-to-date!\n"
     ]
    }
   ],
   "source": [
    "# Step 1: Import Required Libraries\n",
    "import pandas as pd\n",
    "import numpy as np\n",
    "import nltk\n",
    "import re\n",
    "import string\n",
    "from sklearn.feature_extraction.text import TfidfVectorizer\n",
    "from sklearn.cluster import KMeans, AgglomerativeClustering, DBSCAN\n",
    "from sklearn.metrics import silhouette_score, calinski_harabasz_score\n",
    "nltk.download('punkt')\n",
    "nltk.download('stopwords')\n",
    "nltk.download('wordnet')\n",
    "\n",
    "from nltk.corpus import stopwords\n",
    "from nltk.tokenize import word_tokenize\n",
    "from nltk.stem import WordNetLemmatizer"
   ]
  },
  {
   "cell_type": "code",
   "execution_count": 131,
   "metadata": {},
   "outputs": [
    {
     "name": "stderr",
     "output_type": "stream",
     "text": [
      "[nltk_data] Downloading package movie_reviews to\n",
      "[nltk_data]     C:\\Users\\raipr\\AppData\\Roaming\\nltk_data...\n",
      "[nltk_data]   Package movie_reviews is already up-to-date!\n"
     ]
    }
   ],
   "source": [
    "# Step 2: Load and Preprocess Data\n",
    "\n",
    "def load_imdb_data():\n",
    "    nltk.download('movie_reviews')\n",
    "    from nltk.corpus import movie_reviews\n",
    "    \n",
    "    # Extracting movie reviews and their labels\n",
    "    documents = [(list(movie_reviews.words(fileid)), category)\n",
    "                 for category in movie_reviews.categories()\n",
    "                 for fileid in movie_reviews.fileids(category)]\n",
    "    \n",
    "    # Convert to dataframe\n",
    "    df = pd.DataFrame(documents, columns=['review', 'sentiment'])\n",
    "    df['review'] = df['review'].apply(lambda x: ' '.join(x))  # Convert word lists to full text\n",
    "    return df\n",
    "\n",
    "# Preprocess the text\n",
    "def preprocess_text(text):\n",
    "    text = text.lower()  # Convert to lowercase\n",
    "    text = re.sub(f'[{string.punctuation}]', '', text)  # Remove punctuation\n",
    "    text = re.sub('\\d+', '', text)  # Remove numbers\n",
    "    return text\n",
    "\n",
    "# Load and preprocess data\n",
    "df = load_imdb_data()\n",
    "df['review'] = df['review'].apply(preprocess_text)"
   ]
  },
  {
   "cell_type": "code",
   "execution_count": 132,
   "metadata": {},
   "outputs": [],
   "source": [
    "# Step 3: Convert Text to Numerical Features\n",
    "\n",
    "# Convert text data into numerical features using TF-IDF \n",
    "vectorizer = TfidfVectorizer(max_features=5000) \n",
    "X = vectorizer.fit_transform(df['review']) "
   ]
  },
  {
   "cell_type": "markdown",
   "metadata": {},
   "source": [
    "***Step 4: Clustering Algorithms***"
   ]
  },
  {
   "cell_type": "code",
   "execution_count": 133,
   "metadata": {},
   "outputs": [],
   "source": [
    "# K-Means Clustering\n",
    "kmeans = KMeans(n_clusters=2, random_state=42)\n",
    "kmeans_labels = kmeans.fit_predict(X)\n",
    "df['KMeans_Cluster'] = kmeans_labels"
   ]
  },
  {
   "cell_type": "code",
   "execution_count": 134,
   "metadata": {},
   "outputs": [],
   "source": [
    "# Hierarchical Clustering\n",
    "# 'ward' linkage\n",
    "agglo = AgglomerativeClustering(n_clusters=3, linkage='ward')\n",
    "agg_cluster_ward = agglo.fit_predict(X.toarray())\n",
    "df['agg_cluster_ward'] = agg_cluster_ward \n",
    "\n",
    "# 'average' linkage\n",
    "agg_cluster_avg = AgglomerativeClustering(n_clusters=2, linkage='average')\n",
    "agg_cluster_avg = agg_cluster_avg.fit_predict(X.toarray())\n",
    "df['agg_cluster_avg'] = agg_cluster_avg\n",
    "\n",
    "# 'complete' linkage\n",
    "agg_cluster_comp = AgglomerativeClustering(n_clusters=2, linkage='complete')\n",
    "agg_cluster_comp = agg_cluster_comp.fit_predict(X.toarray())\n",
    "df['agg_cluster_comp'] = agg_cluster_comp"
   ]
  },
  {
   "cell_type": "code",
   "execution_count": 135,
   "metadata": {},
   "outputs": [],
   "source": [
    "# DBSCAN Clustering\n",
    "dbscan = DBSCAN(eps=0.3, min_samples=2)\n",
    "dbscan_labels = dbscan.fit_predict(X)\n",
    "df['DBSCAN_Cluster'] = dbscan_labels"
   ]
  },
  {
   "cell_type": "markdown",
   "metadata": {},
   "source": [
    "***Step 5: Evaluation Metrics***"
   ]
  },
  {
   "cell_type": "code",
   "execution_count": 136,
   "metadata": {},
   "outputs": [
    {
     "name": "stdout",
     "output_type": "stream",
     "text": [
      "KMeans Silhouette Score: 0.025063991201521803\n",
      "Agglomerative Silhouette Score 'ward-linkage': -0.0077568643615814606\n",
      "Agglomerative Silhouette Score 'average-linkage': 0.11735547586914255\n",
      "Agglomerative Silhouette Score 'complete-linkage': 0.11431321175161567\n",
      "DBSCAN Silhouette Score: 0.9434857099395385\n"
     ]
    }
   ],
   "source": [
    "print(\"KMeans Silhouette Score:\", silhouette_score(X, kmeans_labels))\n",
    "print(\"Agglomerative Silhouette Score 'ward-linkage':\", silhouette_score(X, agg_cluster_ward))\n",
    "print(\"Agglomerative Silhouette Score 'average-linkage':\", silhouette_score(X, agg_cluster_avg))\n",
    "print(\"Agglomerative Silhouette Score 'complete-linkage':\", silhouette_score(X, agg_cluster_comp))\n",
    "\n",
    "dbscan_core_mask = dbscan_labels != -1\n",
    "if len(set(dbscan_labels)) > 1:\n",
    "    print(\"DBSCAN Silhouette Score:\", silhouette_score(X[dbscan_core_mask], dbscan_labels[dbscan_core_mask]))\n",
    "else:\n",
    "    print(\"DBSCAN failed to form valid clusters\")"
   ]
  },
  {
   "cell_type": "code",
   "execution_count": 137,
   "metadata": {},
   "outputs": [
    {
     "name": "stdout",
     "output_type": "stream",
     "text": [
      "Number of noise points (outliers): 1984\n"
     ]
    }
   ],
   "source": [
    "number_of_noise = np.sum(dbscan_labels == -1)\n",
    "print(\"Number of noise points (outliers):\", number_of_noise)"
   ]
  },
  {
   "cell_type": "code",
   "execution_count": 138,
   "metadata": {},
   "outputs": [
    {
     "name": "stdout",
     "output_type": "stream",
     "text": [
      "CPU times: total: 15.6 ms\n",
      "Wall time: 18.6 ms\n",
      "CPU times: total: 4.47 s\n",
      "Wall time: 4.62 s\n",
      "CPU times: total: 594 ms\n",
      "Wall time: 566 ms\n"
     ]
    },
    {
     "data": {
      "text/plain": [
       "array([-1, -1, -1, ..., -1, -1, -1], shape=(2000,))"
      ]
     },
     "execution_count": 138,
     "metadata": {},
     "output_type": "execute_result"
    }
   ],
   "source": [
    "%time kmeans.fit_predict(X)\n",
    "%time agglo.fit_predict(X.toarray())\n",
    "%time dbscan.fit_predict(X)"
   ]
  },
  {
   "cell_type": "code",
   "execution_count": 139,
   "metadata": {},
   "outputs": [
    {
     "name": "stdout",
     "output_type": "stream",
     "text": [
      "      KMeans_Cluster  agg_cluster_ward  agg_cluster_avg  agg_cluster_comp  \\\n",
      "0                  1                 1                0                 1   \n",
      "1                  1                 1                0                 1   \n",
      "2                  1                 1                0                 1   \n",
      "3                  1                 0                0                 1   \n",
      "4                  1                 0                0                 1   \n",
      "...              ...               ...              ...               ...   \n",
      "1995               1                 0                0                 1   \n",
      "1996               1                 0                0                 1   \n",
      "1997               1                 0                0                 1   \n",
      "1998               1                 0                0                 1   \n",
      "1999               1                 0                0                 1   \n",
      "\n",
      "      DBSCAN_Cluster  \n",
      "0                 -1  \n",
      "1                 -1  \n",
      "2                 -1  \n",
      "3                 -1  \n",
      "4                 -1  \n",
      "...              ...  \n",
      "1995              -1  \n",
      "1996              -1  \n",
      "1997              -1  \n",
      "1998              -1  \n",
      "1999              -1  \n",
      "\n",
      "[2000 rows x 5 columns]\n"
     ]
    }
   ],
   "source": [
    "print(df[[ 'KMeans_Cluster', 'agg_cluster_ward', 'agg_cluster_avg', 'agg_cluster_comp', 'DBSCAN_Cluster']])"
   ]
  },
  {
   "cell_type": "markdown",
   "metadata": {},
   "source": [
    "## Analysis & Most Suitable Algorithm for movie_reviews dataset\n",
    "#### ***Cluster Quality Analysis***\n",
    "##### KMeans: Very low score, poorly formed clusters.\n",
    "##### Agglomerative: Negative score, worse than random clusters.\n",
    "##### DBSCAN: Exceptionally high score (0.90+), best clustering quality.\n",
    "\n",
    "### ***Outlier & Noise Handling***\n",
    "##### DBSCAN handles noise by design (labels noise as -1) and performs the best here. Nymber of noise point 1984.\n",
    "##### KMeans and Agglomerative force every data point into a cluster (bad with noisy data).\n",
    "\n",
    "### ***Scalability***\n",
    "##### KMeans is scalable but fails on movie_review dataset.\n",
    "##### Agglomerative completed fast but performed poorly.\n",
    "##### DBSCAN performs well, eventhough it took much time than Kmeans and Allgo."
   ]
  },
  {
   "cell_type": "code",
   "execution_count": 140,
   "metadata": {},
   "outputs": [
    {
     "data": {
      "image/png": "[encoded data removed]",
      "text/plain": [
       "<Figure size 1000x700 with 1 Axes>"
      ]
     },
     "metadata": {},
     "output_type": "display_data"
    }
   ],
   "source": [
    "#Visualize Using Dendrogram\n",
    "from scipy.cluster.hierarchy import dendrogram, linkage\n",
    "import matplotlib.pyplot as plt\n",
    "\n",
    "Z = linkage(X.toarray(), method='ward')\n",
    "plt.figure(figsize=(10, 7))\n",
    "dendrogram(Z)\n",
    "plt.title('Hierarchical Clustering Dendrogram (Ward Linkage)')\n",
    "plt.xlabel('Sample Index')\n",
    "plt.ylabel('Distance')\n",
    "plt.show()"
   ]
  },
  {
   "cell_type": "markdown",
   "metadata": {},
   "source": []
  }
 ],
 "metadata": {
  "kernelspec": {
   "display_name": "Python 3",
   "language": "python",
   "name": "python3"
  },
  "language_info": {
   "codemirror_mode": {
    "name": "ipython",
    "version": 3
   },
   "file_extension": ".py",
   "mimetype": "text/x-python",
   "name": "python",
   "nbconvert_exporter": "python",
   "pygments_lexer": "ipython3",
   "version": "3.13.2"
  }
 },
 "nbformat": 4,
 "nbformat_minor": 2
}
